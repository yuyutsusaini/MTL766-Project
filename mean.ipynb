{
 "cells": [
  {
   "cell_type": "code",
   "execution_count": 1,
   "metadata": {},
   "outputs": [],
   "source": [
    "import pandas as pd\n",
    "import matplotlib.pyplot as plt\n",
    "import seaborn as sns\n",
    "from scipy import stats\n",
    "import numpy as np\n",
    "from scipy.stats import shapiro, chi2\n",
    "from scipy.spatial.distance import mahalanobis"
   ]
  },
  {
   "cell_type": "code",
   "execution_count": 2,
   "metadata": {},
   "outputs": [],
   "source": [
    "df=pd.read_csv('Customer Purchasing Behaviors.csv')\n",
    "grouped = df.drop(columns=['user_id']).groupby(df['region'].map(lambda x: 'North-East' if x in ['North', 'East'] else 'South-West'))"
   ]
  },
  {
   "cell_type": "code",
   "execution_count": 3,
   "metadata": {},
   "outputs": [
    {
     "name": "stdout",
     "output_type": "stream",
     "text": [
      "Mean values for North-East region: age                      34.166667\n",
      "annual_income         52750.000000\n",
      "purchase_amount         355.833333\n",
      "loyalty_score             5.832143\n",
      "purchase_frequency       17.583333\n",
      "dtype: float64\n",
      "Mean values for South-West region: age                      41.136364\n",
      "annual_income         59948.051948\n",
      "purchase_amount         463.701299\n",
      "loyalty_score             7.318831\n",
      "purchase_frequency       21.006494\n",
      "dtype: float64\n",
      "Attribute: age\n",
      "  t-statistic: -6.0904\n",
      "  p-value: 0.0000\n",
      "  Result: Reject the null hypothesis (means are significantly different)\n",
      "\n",
      "Attribute: annual_income\n",
      "  t-statistic: -5.1589\n",
      "  p-value: 0.0000\n",
      "  Result: Reject the null hypothesis (means are significantly different)\n",
      "\n",
      "Attribute: purchase_amount\n",
      "  t-statistic: -6.2384\n",
      "  p-value: 0.0000\n",
      "  Result: Reject the null hypothesis (means are significantly different)\n",
      "\n",
      "Attribute: loyalty_score\n",
      "  t-statistic: -6.2901\n",
      "  p-value: 0.0000\n",
      "  Result: Reject the null hypothesis (means are significantly different)\n",
      "\n",
      "Attribute: purchase_frequency\n",
      "  t-statistic: -6.1736\n",
      "  p-value: 0.0000\n",
      "  Result: Reject the null hypothesis (means are significantly different)\n",
      "\n"
     ]
    }
   ],
   "source": [
    "df1 = grouped.get_group('North-East')\n",
    "df2 = grouped.get_group('South-West')\n",
    "\n",
    "numeric_columns = ['age', 'annual_income', 'purchase_amount', 'loyalty_score', 'purchase_frequency']\n",
    "\n",
    "mean1 = df1[numeric_columns].mean()\n",
    "mean2 = df2[numeric_columns].mean()\n",
    "\n",
    "print(\"Mean values for North-East region:\", mean1)\n",
    "print(\"Mean values for South-West region:\", mean2)\n",
    "# Perform Welch's t-test for each numeric attribute\n",
    "results = {}\n",
    "for column in numeric_columns:\n",
    "    # Calculate Welch's t-test\n",
    "    t_stat, p_value = stats.ttest_ind(df1[column], df2[column], equal_var=False)\n",
    "    \n",
    "    # Store results\n",
    "    results[column] = {\n",
    "        't-statistic': t_stat,\n",
    "        'p-value': p_value\n",
    "    }\n",
    "\n",
    "# Print results\n",
    "for column, result in results.items():\n",
    "    print(f\"Attribute: {column}\")\n",
    "    print(f\"  t-statistic: {result['t-statistic']:.4f}\")\n",
    "    print(f\"  p-value: {result['p-value']:.4f}\")\n",
    "    if result['p-value'] < 0.05:\n",
    "        print(\"  Result: Reject the null hypothesis (means are significantly different)\\n\")\n",
    "    else:\n",
    "        print(\"  Result: Fail to reject the null hypothesis (means are not significantly different)\\n\")"
   ]
  },
  {
   "cell_type": "code",
   "execution_count": null,
   "metadata": {},
   "outputs": [],
   "source": []
  },
  {
   "cell_type": "code",
   "execution_count": 5,
   "metadata": {},
   "outputs": [
    {
     "name": "stdout",
     "output_type": "stream",
     "text": [
      "James's Test Statistic: 78.57581647093185\n",
      "Critical F-value: 8.7901260689275\n",
      "p-value: 0.0020406128044438976\n",
      "Result: Reject null hypothesis\n"
     ]
    }
   ],
   "source": [
    "import numpy as np\n",
    "from scipy.stats import f\n",
    "\n",
    "# Assuming df1 and df2 are your two dataframes with the same numeric attributes\n",
    "# Extract the numeric columns\n",
    "numeric_columns = ['age', 'annual_income', 'purchase_amount', 'loyalty_score', 'purchase_frequency']\n",
    "X1 = df1[numeric_columns].to_numpy()\n",
    "X2 = df2[numeric_columns].to_numpy()\n",
    "\n",
    "# Calculate means and covariance matrices\n",
    "mean1 = np.mean(X1, axis=0)\n",
    "mean2 = np.mean(X2, axis=0)\n",
    "S1 = np.cov(X1, rowvar=False)\n",
    "S2 = np.cov(X2, rowvar=False)\n",
    "n1, n2 = X1.shape[0], X2.shape[0]\n",
    "p = X1.shape[1]\n",
    "\n",
    "# Calculate the difference in means and pooled covariance matrix\n",
    "mean_diff = mean1 - mean2\n",
    "pooled_cov = S1 / n1 + S2 / n2\n",
    "\n",
    "# Invert pooled covariance, handling potential singular matrix\n",
    "try:\n",
    "    inv_pooled_cov = np.linalg.inv(pooled_cov)\n",
    "except np.linalg.LinAlgError:\n",
    "    inv_pooled_cov = np.linalg.pinv(pooled_cov)  # Use pseudo-inverse if singular\n",
    "\n",
    "# Calculate James's Test statistic\n",
    "J = mean_diff.T @ inv_pooled_cov @ mean_diff\n",
    "\n",
    "# Degrees of freedom for F-distribution approximation\n",
    "df_num = p  # Numerator degrees of freedom\n",
    "df_den = ((n1 + n2 - 2) * (p + 1)) / (2 * (n1 + n2 - p - 1))  # Denominator degrees of freedom\n",
    "\n",
    "# Calculate critical F-value for a 95% confidence level\n",
    "F_critical = f.ppf(0.95, df_num, df_den)\n",
    "p_value = 1 - f.cdf(J, df_num, df_den)\n",
    "\n",
    "# Print results\n",
    "print(\"James's Test Statistic:\", J)\n",
    "print(\"Critical F-value:\", F_critical)\n",
    "print(\"p-value:\", p_value)\n",
    "print(\"Result:\", \"Reject null hypothesis\" if J > F_critical else \"Fail to reject null hypothesis\")\n"
   ]
  }
 ],
 "metadata": {
  "kernelspec": {
   "display_name": "Python 3",
   "language": "python",
   "name": "python3"
  },
  "language_info": {
   "codemirror_mode": {
    "name": "ipython",
    "version": 3
   },
   "file_extension": ".py",
   "mimetype": "text/x-python",
   "name": "python",
   "nbconvert_exporter": "python",
   "pygments_lexer": "ipython3",
   "version": "3.11.8"
  }
 },
 "nbformat": 4,
 "nbformat_minor": 2
}
