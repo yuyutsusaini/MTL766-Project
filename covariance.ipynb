{
 "cells": [
  {
   "cell_type": "code",
   "execution_count": 48,
   "metadata": {},
   "outputs": [],
   "source": [
    "import pandas as pd\n",
    "import matplotlib.pyplot as plt\n",
    "import seaborn as sns\n",
    "import numpy as np"
   ]
  },
  {
   "cell_type": "code",
   "execution_count": 49,
   "metadata": {},
   "outputs": [],
   "source": [
    "df=pd.read_csv('Customer Purchasing Behaviors.csv')\n",
    "grouped = df.drop(columns=['user_id']).groupby(df['region'].map(lambda x: 'North-East' if x in ['North', 'East'] else 'South-West'))"
   ]
  },
  {
   "cell_type": "code",
   "execution_count": 50,
   "metadata": {},
   "outputs": [
    {
     "name": "stdout",
     "output_type": "stream",
     "text": [
      "Box M statistic: 100.77601236430358\n",
      "Degrees of freedom: 15\n",
      "p-value: 9.325873406851315e-15\n",
      "           Chi2    df          pval  equal_cov\n",
      "box  100.776012  15.0  9.297145e-15      False\n"
     ]
    },
    {
     "name": "stderr",
     "output_type": "stream",
     "text": [
      "/var/folders/k6/g_ljv18502981l2_r91g117c0000gn/T/ipykernel_26164/3071614013.py:40: SettingWithCopyWarning: \n",
      "A value is trying to be set on a copy of a slice from a DataFrame.\n",
      "Try using .loc[row_indexer,col_indexer] = value instead\n",
      "\n",
      "See the caveats in the documentation: https://pandas.pydata.org/pandas-docs/stable/user_guide/indexing.html#returning-a-view-versus-a-copy\n",
      "  df1['group'] = 'A'\n",
      "/var/folders/k6/g_ljv18502981l2_r91g117c0000gn/T/ipykernel_26164/3071614013.py:41: SettingWithCopyWarning: \n",
      "A value is trying to be set on a copy of a slice from a DataFrame.\n",
      "Try using .loc[row_indexer,col_indexer] = value instead\n",
      "\n",
      "See the caveats in the documentation: https://pandas.pydata.org/pandas-docs/stable/user_guide/indexing.html#returning-a-view-versus-a-copy\n",
      "  df2['group'] = 'B'\n"
     ]
    }
   ],
   "source": [
    "# Box M test \n",
    "df1 = grouped.get_group('North-East')\n",
    "df2 = grouped.get_group('South-West')\n",
    "\n",
    "# Calculate covariance matrices\n",
    "S1 = df1[['age', 'annual_income', 'purchase_amount', 'loyalty_score', 'purchase_frequency']].cov().to_numpy()\n",
    "S2 = df2[['age', 'annual_income', 'purchase_amount', 'loyalty_score', 'purchase_frequency']].cov().to_numpy()\n",
    "\n",
    "# Calculate the pooled covariance matrix\n",
    "n1 = len(df1)\n",
    "n2 = len(df2)\n",
    "\n",
    "S_pooled = ((n1-1)*S1 + (n2-1)*S2) / (n1 + n2 - 2)\n",
    "\n",
    "# Calculate the Box M statistic\n",
    "M = (n1 + n2 -2 ) * np.log(np.linalg.det(S_pooled)) - (n1 - 1) * np.log(np.linalg.det(S1)) - (n2 - 1) * np.log(np.linalg.det(S2))\n",
    "\n",
    "# Correction factor\n",
    "p = 5 # number of variables\n",
    "k = 2 # number of groups\n",
    "\n",
    "N = n1 + n2\n",
    "\n",
    "correction_factor = 1 - ((2*p**2 + 3*p - 1) / (6*(p+1)*(k-1))) * (1/(n1-1) + 1/(n2-1) - 1/(n1+n2-2))\n",
    "dof = ((p*(p+1))//2) * (k-1)\n",
    "\n",
    "M = M*correction_factor\n",
    "\n",
    "# Calculate the critical value\n",
    "from scipy.stats import chi2\n",
    "p_value = 1 - chi2.cdf(M, dof)\n",
    "\n",
    "print(f'Box M statistic: {M}')\n",
    "print(f'Degrees of freedom: {dof}')\n",
    "print(f'p-value: {p_value}')\n",
    "\n",
    "import pingouin as pg\n",
    "\n",
    "# Box M test\n",
    "df1['group'] = 'A'\n",
    "df2['group'] = 'B'\n",
    "\n",
    "# Combine both dataframes\n",
    "df_combined = pd.concat([df1, df2], ignore_index=True)\n",
    "numeric_columns = ['age', 'annual_income', 'purchase_amount', 'loyalty_score', 'purchase_frequency']\n",
    "# Perform Box's M test on the combined dataframe\n",
    "result = pg.box_m(data=df_combined, dvs=numeric_columns, group='group')\n",
    "print(result)\n",
    "# print attributes of the result object\n",
    "# print(dir(result))\n",
    "# print(result.__dict__)\n"
   ]
  },
  {
   "cell_type": "code",
   "execution_count": 51,
   "metadata": {},
   "outputs": [
    {
     "name": "stdout",
     "output_type": "stream",
     "text": [
      "Wilks' Lambda: 3.499576610159108e-23\n",
      "Chi2 statistic: 103.41363029242187\n",
      "Degrees of freedom: 13.0\n",
      "p-value: 3.3306690738754696e-16\n"
     ]
    }
   ],
   "source": [
    "# Likelihood ratio test using Wilks' Lambda\n",
    "# print(1/np.linalg.det(S1))\n",
    "# print(S1)\n",
    "det_S1 = np.linalg.det(S1)\n",
    "det_S2 = np.linalg.det(S2)\n",
    "det_S_pooled = np.linalg.det(S_pooled)\n",
    "\n",
    "Lambda = (det_S1 / det_S_pooled)**((n1 - 1) / 2) * (det_S2 / det_S_pooled)**((n2 - 1) / 2)\n",
    "\n",
    "\n",
    "# Test statistic\n",
    "chi2_stat = -2 * np.log(Lambda)\n",
    "\n",
    "# Degrees of freedom\n",
    "p = 5  # Number of variables\n",
    "df = (p * (p + 1) / 2) - 2  # Two groups\n",
    "\n",
    "# p-value\n",
    "p_value = 1 - chi2.cdf(chi2_stat, df)\n",
    "\n",
    "print(f'Wilks\\' Lambda: {Lambda}')\n",
    "print(f'Chi2 statistic: {chi2_stat}')\n",
    "print(f'Degrees of freedom: {df}')\n",
    "print(f'p-value: {p_value}')"
   ]
  },
  {
   "cell_type": "code",
   "execution_count": 52,
   "metadata": {},
   "outputs": [
    {
     "name": "stdout",
     "output_type": "stream",
     "text": [
      "M 103.41363029242166\n"
     ]
    }
   ],
   "source": []
  }
 ],
 "metadata": {
  "kernelspec": {
   "display_name": "Python 3",
   "language": "python",
   "name": "python3"
  },
  "language_info": {
   "codemirror_mode": {
    "name": "ipython",
    "version": 3
   },
   "file_extension": ".py",
   "mimetype": "text/x-python",
   "name": "python",
   "nbconvert_exporter": "python",
   "pygments_lexer": "ipython3",
   "version": "3.11.8"
  }
 },
 "nbformat": 4,
 "nbformat_minor": 2
}
